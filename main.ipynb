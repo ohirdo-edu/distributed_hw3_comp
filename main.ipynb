{
 "cells": [
  {
   "cell_type": "code",
   "execution_count": 1,
   "id": "initial_id",
   "metadata": {
    "collapsed": true,
    "ExecuteTime": {
     "end_time": "2023-11-19T16:42:26.351205Z",
     "start_time": "2023-11-19T16:42:20.627178Z"
    }
   },
   "outputs": [],
   "source": [
    "import datetime\n",
    "import time\n",
    "from collections import defaultdict\n",
    "\n",
    "import psycopg2\n",
    "import pandas as pd\n",
    "from cassandra.cluster import Cluster\n",
    "from solutions import RelationalSolution, ColumnSolution\n",
    "from solutionbase import generate_entries, Solution, DateInterval"
   ]
  },
  {
   "cell_type": "code",
   "execution_count": 2,
   "outputs": [],
   "source": [
    "generated_data = generate_entries()"
   ],
   "metadata": {
    "collapsed": false,
    "ExecuteTime": {
     "end_time": "2023-11-19T16:42:26.393270Z",
     "start_time": "2023-11-19T16:42:26.361806Z"
    }
   },
   "id": "2ce2587559217136"
  },
  {
   "cell_type": "code",
   "execution_count": 3,
   "outputs": [],
   "source": [
    "relational_solution = RelationalSolution(\n",
    "    psycopg2.connect(host='localhost', dbname='store', user='p_user', password='p_password')\n",
    ")\n",
    "\n",
    "cluster = Cluster()\n",
    "column_solution = ColumnSolution(cluster.connect('store'))\n",
    "all_solutions: list[tuple[str, Solution]] = [\n",
    "    ('реляційна', relational_solution),\n",
    "    ('стовпчикова', column_solution),\n",
    "]"
   ],
   "metadata": {
    "collapsed": false,
    "ExecuteTime": {
     "end_time": "2023-11-19T16:42:26.471347Z",
     "start_time": "2023-11-19T16:42:26.390309Z"
    }
   },
   "id": "16554a5178985699"
  },
  {
   "cell_type": "code",
   "execution_count": 4,
   "outputs": [],
   "source": [
    "def get_test_cases(solution: Solution):\n",
    "    date_interval = DateInterval(\n",
    "        start=datetime.datetime(2022, 1, 1),\n",
    "        end=datetime.datetime(2023, 1, 1),\n",
    "    )\n",
    "    target_product = 'Product_0'\n",
    "    target_shop = 'Shop_1'\n",
    "    return [\n",
    "        ('Порахувати кількість проданового товару', lambda: solution.get_total_amount()),\n",
    "        ('Порахувати вартість проданого товару', lambda: solution.get_total_price()),\n",
    "        (\n",
    "            'Порахувати вартість проданого товару за період',\n",
    "            lambda: solution.get_total_price_for_date_interval(date_interval)\n",
    "        ),\n",
    "        (\n",
    "            'Порахувати скільки було придбано товару А в мазазині В за період С',\n",
    "            lambda: solution.get_amount_at_shop(target_product, target_shop, date_interval)\n",
    "        ),\n",
    "        (\n",
    "            'Порахувати скільки було придбано товару А в усіх магазинах за період С',\n",
    "            lambda: solution.get_amount(target_product, date_interval)\n",
    "        ),\n",
    "        (\n",
    "            'Порахувати сумарну виручку магазинів за період С',\n",
    "            lambda: solution.get_total_price_by_shop(date_interval)\n",
    "        ),\n",
    "        (\n",
    "            'Вивести топ 10 купівель товарів по два за період С',\n",
    "            lambda: solution.get_top_products_by_2(date_interval, limit=10),\n",
    "        ),\n",
    "        (\n",
    "            'Вивести топ 10 купівель товарів по три за період С',\n",
    "            lambda: solution.get_top_products_by_3(date_interval, limit=10),\n",
    "        ),\n",
    "        (\n",
    "            'Вивести топ 10 купівель товарів по чотири за період С',\n",
    "            lambda: solution.get_top_products_by_4(date_interval, limit=10),\n",
    "        ),\n",
    "    ]"
   ],
   "metadata": {
    "collapsed": false,
    "ExecuteTime": {
     "end_time": "2023-11-19T16:42:26.476897Z",
     "start_time": "2023-11-19T16:42:26.472152Z"
    }
   },
   "id": "476882859304b28a"
  },
  {
   "cell_type": "markdown",
   "source": [
    "## Сгенеруємо тестові дані"
   ],
   "metadata": {
    "collapsed": false
   },
   "id": "63b853bdb1700c90"
  },
  {
   "cell_type": "code",
   "execution_count": 5,
   "outputs": [],
   "source": [
    "for _, solution in all_solutions:\n",
    "    solution.populate(generated_data)"
   ],
   "metadata": {
    "collapsed": false,
    "ExecuteTime": {
     "end_time": "2023-11-19T16:43:31.091487Z",
     "start_time": "2023-11-19T16:42:26.477164Z"
    }
   },
   "id": "3a3f6b2db3e1b433"
  },
  {
   "cell_type": "markdown",
   "source": [
    "# Перевіримо коректність роботи запитів "
   ],
   "metadata": {
    "collapsed": false
   },
   "id": "c26a155959d4c0d4"
  },
  {
   "cell_type": "code",
   "execution_count": 6,
   "outputs": [],
   "source": [
    "results_table = defaultdict(defaultdict)\n",
    "for solution_name, solution in all_solutions:\n",
    "    for test_name, test_func in get_test_cases(solution):\n",
    "        results_table[solution_name][test_name] = test_func()"
   ],
   "metadata": {
    "collapsed": false,
    "ExecuteTime": {
     "end_time": "2023-11-19T16:43:31.193472Z",
     "start_time": "2023-11-19T16:43:31.092079Z"
    }
   },
   "id": "94c77f4458d0c38b"
  },
  {
   "cell_type": "code",
   "execution_count": 7,
   "outputs": [
    {
     "data": {
      "text/plain": "                                                                                            реляційна  \\\nПорахувати кількість проданового товару                                                    8101.86419   \nПорахувати вартість проданого товару                                                          5435003   \nПорахувати вартість проданого товару за період                                                 906576   \nПорахувати скільки було придбано товару А в маз...                                          13.910051   \nПорахувати скільки було придбано товару А в усі...                                         131.126897   \nПорахувати сумарну виручку магазинів за період С    [(Shop_0, 105708), (Shop_1, 77935), (Shop_2, 9...   \nВивести топ 10 купівель товарів по два за період С  [(Product_4, Product_7, 72), (Product_1, Produ...   \nВивести топ 10 купівель товарів по три за період С  [(Product_5, Product_6, Product_8, 57), (Produ...   \nВивести топ 10 купівель товарів по чотири за пе...  [(Product_1, Product_6, Product_7, Product_8, ...   \n\n                                                                                          стовпчикова  \nПорахувати кількість проданового товару                                                   8101.864258  \nПорахувати вартість проданого товару                                                          5435003  \nПорахувати вартість проданого товару за період                                                 906576  \nПорахувати скільки було придбано товару А в маз...                                           13.91005  \nПорахувати скільки було придбано товару А в усі...                                         131.126892  \nПорахувати сумарну виручку магазинів за період С    [(Shop_5, 85650), (Shop_0, 105708), (Shop_4, 1...  \nВивести топ 10 купівель товарів по два за період С  [(Product_4, Product_7, 72), (Product_6, Produ...  \nВивести топ 10 купівель товарів по три за період С  [(Product_5, Product_6, Product_8, 57), (Produ...  \nВивести топ 10 купівель товарів по чотири за пе...  [(Product_1, Product_6, Product_7, Product_8, ...  ",
      "text/html": "<div>\n<style scoped>\n    .dataframe tbody tr th:only-of-type {\n        vertical-align: middle;\n    }\n\n    .dataframe tbody tr th {\n        vertical-align: top;\n    }\n\n    .dataframe thead th {\n        text-align: right;\n    }\n</style>\n<table border=\"1\" class=\"dataframe\">\n  <thead>\n    <tr style=\"text-align: right;\">\n      <th></th>\n      <th>реляційна</th>\n      <th>стовпчикова</th>\n    </tr>\n  </thead>\n  <tbody>\n    <tr>\n      <th>Порахувати кількість проданового товару</th>\n      <td>8101.86419</td>\n      <td>8101.864258</td>\n    </tr>\n    <tr>\n      <th>Порахувати вартість проданого товару</th>\n      <td>5435003</td>\n      <td>5435003</td>\n    </tr>\n    <tr>\n      <th>Порахувати вартість проданого товару за період</th>\n      <td>906576</td>\n      <td>906576</td>\n    </tr>\n    <tr>\n      <th>Порахувати скільки було придбано товару А в мазазині В за період С</th>\n      <td>13.910051</td>\n      <td>13.91005</td>\n    </tr>\n    <tr>\n      <th>Порахувати скільки було придбано товару А в усіх магазинах за період С</th>\n      <td>131.126897</td>\n      <td>131.126892</td>\n    </tr>\n    <tr>\n      <th>Порахувати сумарну виручку магазинів за період С</th>\n      <td>[(Shop_0, 105708), (Shop_1, 77935), (Shop_2, 9...</td>\n      <td>[(Shop_5, 85650), (Shop_0, 105708), (Shop_4, 1...</td>\n    </tr>\n    <tr>\n      <th>Вивести топ 10 купівель товарів по два за період С</th>\n      <td>[(Product_4, Product_7, 72), (Product_1, Produ...</td>\n      <td>[(Product_4, Product_7, 72), (Product_6, Produ...</td>\n    </tr>\n    <tr>\n      <th>Вивести топ 10 купівель товарів по три за період С</th>\n      <td>[(Product_5, Product_6, Product_8, 57), (Produ...</td>\n      <td>[(Product_5, Product_6, Product_8, 57), (Produ...</td>\n    </tr>\n    <tr>\n      <th>Вивести топ 10 купівель товарів по чотири за період С</th>\n      <td>[(Product_1, Product_6, Product_7, Product_8, ...</td>\n      <td>[(Product_1, Product_6, Product_7, Product_8, ...</td>\n    </tr>\n  </tbody>\n</table>\n</div>"
     },
     "execution_count": 7,
     "metadata": {},
     "output_type": "execute_result"
    }
   ],
   "source": [
    "pd.DataFrame(results_table)"
   ],
   "metadata": {
    "collapsed": false,
    "ExecuteTime": {
     "end_time": "2023-11-19T16:43:31.217623Z",
     "start_time": "2023-11-19T16:43:31.196184Z"
    }
   },
   "id": "4e25105e6e7991a3"
  },
  {
   "cell_type": "markdown",
   "source": [
    "## Виміряємо час роботи запитів"
   ],
   "metadata": {
    "collapsed": false
   },
   "id": "e1c1e75b67b9e816"
  },
  {
   "cell_type": "code",
   "execution_count": 8,
   "outputs": [],
   "source": [
    "timing_table = defaultdict(defaultdict)\n",
    "for solution_name, solution in all_solutions:\n",
    "    for test_name, test_func in get_test_cases(solution):\n",
    "        start_time = time.time()\n",
    "        test_func()\n",
    "        end_time = time.time()\n",
    "        timing_table[f\"{solution_name} (мс)\"][test_name] = (end_time - start_time) * 1000"
   ],
   "metadata": {
    "collapsed": false,
    "ExecuteTime": {
     "end_time": "2023-11-19T16:43:31.317961Z",
     "start_time": "2023-11-19T16:43:31.210900Z"
    }
   },
   "id": "ab77923290949643"
  },
  {
   "cell_type": "code",
   "execution_count": 9,
   "outputs": [
    {
     "data": {
      "text/plain": "                                                    реляційна (мс)  \\\nПорахувати кількість проданового товару                   1.411200   \nПорахувати вартість проданого товару                      0.837803   \nПорахувати вартість проданого товару за період            0.941992   \nПорахувати скільки було придбано товару А в маз...        0.909090   \nПорахувати скільки було придбано товару А в усі...        0.938177   \nПорахувати сумарну виручку магазинів за період С          0.968933   \nВивести топ 10 купівель товарів по два за період С        3.006935   \nВивести топ 10 купівель товарів по три за період С       10.712147   \nВивести топ 10 купівель товарів по чотири за пе...       24.456978   \n\n                                                    стовпчикова (мс)  \nПорахувати кількість проданового товару                     6.703854  \nПорахувати вартість проданого товару                        6.887913  \nПорахувати вартість проданого товару за період              4.628897  \nПорахувати скільки було придбано товару А в маз...          1.914024  \nПорахувати скільки було придбано товару А в усі...          9.675980  \nПорахувати сумарну виручку магазинів за період С            5.684853  \nВивести топ 10 купівель товарів по два за період С          5.679131  \nВивести топ 10 купівель товарів по три за період С          8.050919  \nВивести топ 10 купівель товарів по чотири за пе...         11.507034  ",
      "text/html": "<div>\n<style scoped>\n    .dataframe tbody tr th:only-of-type {\n        vertical-align: middle;\n    }\n\n    .dataframe tbody tr th {\n        vertical-align: top;\n    }\n\n    .dataframe thead th {\n        text-align: right;\n    }\n</style>\n<table border=\"1\" class=\"dataframe\">\n  <thead>\n    <tr style=\"text-align: right;\">\n      <th></th>\n      <th>реляційна (мс)</th>\n      <th>стовпчикова (мс)</th>\n    </tr>\n  </thead>\n  <tbody>\n    <tr>\n      <th>Порахувати кількість проданового товару</th>\n      <td>1.411200</td>\n      <td>6.703854</td>\n    </tr>\n    <tr>\n      <th>Порахувати вартість проданого товару</th>\n      <td>0.837803</td>\n      <td>6.887913</td>\n    </tr>\n    <tr>\n      <th>Порахувати вартість проданого товару за період</th>\n      <td>0.941992</td>\n      <td>4.628897</td>\n    </tr>\n    <tr>\n      <th>Порахувати скільки було придбано товару А в мазазині В за період С</th>\n      <td>0.909090</td>\n      <td>1.914024</td>\n    </tr>\n    <tr>\n      <th>Порахувати скільки було придбано товару А в усіх магазинах за період С</th>\n      <td>0.938177</td>\n      <td>9.675980</td>\n    </tr>\n    <tr>\n      <th>Порахувати сумарну виручку магазинів за період С</th>\n      <td>0.968933</td>\n      <td>5.684853</td>\n    </tr>\n    <tr>\n      <th>Вивести топ 10 купівель товарів по два за період С</th>\n      <td>3.006935</td>\n      <td>5.679131</td>\n    </tr>\n    <tr>\n      <th>Вивести топ 10 купівель товарів по три за період С</th>\n      <td>10.712147</td>\n      <td>8.050919</td>\n    </tr>\n    <tr>\n      <th>Вивести топ 10 купівель товарів по чотири за період С</th>\n      <td>24.456978</td>\n      <td>11.507034</td>\n    </tr>\n  </tbody>\n</table>\n</div>"
     },
     "execution_count": 9,
     "metadata": {},
     "output_type": "execute_result"
    }
   ],
   "source": [
    "pd.DataFrame(timing_table)"
   ],
   "metadata": {
    "collapsed": false,
    "ExecuteTime": {
     "end_time": "2023-11-19T16:43:31.327032Z",
     "start_time": "2023-11-19T16:43:31.321849Z"
    }
   },
   "id": "fc9106c5e1891673"
  }
 ],
 "metadata": {
  "kernelspec": {
   "display_name": "Python 3",
   "language": "python",
   "name": "python3"
  },
  "language_info": {
   "codemirror_mode": {
    "name": "ipython",
    "version": 2
   },
   "file_extension": ".py",
   "mimetype": "text/x-python",
   "name": "python",
   "nbconvert_exporter": "python",
   "pygments_lexer": "ipython2",
   "version": "2.7.6"
  }
 },
 "nbformat": 4,
 "nbformat_minor": 5
}
